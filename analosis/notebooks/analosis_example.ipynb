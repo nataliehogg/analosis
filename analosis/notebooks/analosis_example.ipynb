{
 "cells": [
  {
   "cell_type": "markdown",
   "metadata": {},
   "source": [
    "# The `analosis` package\n",
    "\n",
    "**Author**: Natalie B. Hogg\n",
    "\n",
    "The `analosis` (`analysis` + `los`) package allows us to perform various analyses of the line-of-sight effects using `lenstronomy` while maintaining the same settings across the board. \n",
    "\n",
    "**Warning**: in reality this means many parameter choices are hard-coded inside `analosis`. \n",
    "\n",
    "This notebook provides the interface with the `analosis` package, allowing you to choose what type of lensing scenario to analyse and to save the results to your machine."
   ]
  },
  {
   "cell_type": "code",
   "execution_count": 1,
   "metadata": {},
   "outputs": [],
   "source": [
    "# set the path to analosis relative to this notebook\n",
    "import sys\n",
    "sys.path.append('../..')\n",
    "\n",
    "# import the Run class which allows you to run the analysis of your choice\n",
    "from analosis.run import Run"
   ]
  },
  {
   "cell_type": "markdown",
   "metadata": {},
   "source": [
    "### Cosmology\n",
    "Choose the cosmological parameters which will be used by `lenstronomy`, `astropy` and `colossus` (for halo mass functions). The `id` must match one of those known to `colossus`: https://bdiemer.bitbucket.io/colossus/cosmology_cosmology.html#standard-cosmologies.\n",
    "\n",
    "### Scenario\n",
    "Choose the scenario you want to analyse.\n",
    "\n",
    "Options:\n",
    "* `composite lens`\n",
    "* `distributed haloes`\n",
    "\n",
    "### Complexity\n",
    "Set the model complexity: you can choose to fit the generated image with a perfect model, a perfect minimal model, or a variety of incomplete minimal models. **This choice is only relevant for the composite lens**. It will be ignored if you run the distributed haloes scenario.\n",
    "\n",
    "Options:\n",
    "* `perfect`: fits the generated image with a model consisting of `main lens` + `halo` + `LOS`\n",
    "* `perfect minimal`: fits the generated image with a model consisting of `main lens` + `halo`+ `LOS MINIMAL`\n",
    "* `missing halo`: fits the generated image with a model consisting of `main lens` +  `LOS MINIMAL`\n",
    "* `missing offset`: fits the generated image with a model consisting of `main lens` + `halo` + `LOS MINIMAL`, with the halo centre fixed to zero\n",
    "* `missing ellipticity`: fits the generated image with a model consisting of `main lens` + `halo` + `LOS MINIMAL`, with the halo ellipticity fixed to zero\n",
    "\n",
    "### Number of runs\n",
    "Choose the number of runs you want to do i.e. how many images will be created and fit.\n",
    "\n",
    "### Parameters\n",
    "Other parameters."
   ]
  },
  {
   "cell_type": "code",
   "execution_count": 2,
   "metadata": {},
   "outputs": [],
   "source": [
    "cosmology = {'id': 'planck18', 'H0': 67.4, 'Om': 0.315, 'z_observer': 0.0, 'z_lens': 0.5, 'z_source': 2.0}\n",
    "\n",
    "settings = {'scenario': 'composite lens',\n",
    "            'complexity': 'perfect minimal',\n",
    "            'MCMC': True,\n",
    "            'number_of_images': 3,\n",
    "            'lens_model_list': ['LOS', 'SERSIC_ELLIPSE_POTENTIAL', 'NFW_ELLIPSE'],\n",
    "            'n_burn': 1,\n",
    "            'n_run': 1}\n",
    "\n",
    "parameters = {'maximum_shear': 0.03}"
   ]
  },
  {
   "cell_type": "markdown",
   "metadata": {},
   "source": [
    "### Run\n",
    "Finally, run the analysis. Note that you don't need to specify a path where you want your results to be saved: `analosis` automatically saves everything to a dedicated results directory. You can access the path to this directory through the `pathfinder` function of the `Run` class, as shown in the plotting cell below. Results should be local: **don't push the contents of this directory to github!** (There is a .gitignore in place to prevent this, so you shouldn't have to worry about doing it accidentally)."
   ]
  },
  {
   "cell_type": "code",
   "execution_count": 3,
   "metadata": {},
   "outputs": [
    {
     "name": "stdout",
     "output_type": "stream",
     "text": [
      "Running the composite lens case with the following settings:\n",
      "\n",
      "Model: perfect minimal\n",
      "Number of runs: 3\n",
      "Starting MCMC\n",
      "Warning: All samples (including burn-in) will be saved in backup file '/home/natalie/Documents/Projects/los_effects/analosis/analosis/results/chains/fit_image_0.h5'.\n",
      "Warning: backup file '/home/natalie/Documents/Projects/los_effects/analosis/analosis/results/chains/fit_image_0.h5' has been reset!\n"
     ]
    },
    {
     "name": "stderr",
     "output_type": "stream",
     "text": [
      "100%|██████████| 2/2 [00:02<00:00,  1.13s/it]\n"
     ]
    },
    {
     "name": "stdout",
     "output_type": "stream",
     "text": [
      "Computing the MCMC...\n",
      "Number of walkers =  260\n",
      "Burn-in iterations:  1\n",
      "Sampling iterations (in current run): 2\n",
      "3.9701037406921387 time taken for MCMC sampling\n",
      "the number of walkers in this chain is 260\n",
      "Starting MCMC\n",
      "Warning: All samples (including burn-in) will be saved in backup file '/home/natalie/Documents/Projects/los_effects/analosis/analosis/results/chains/fit_image_1.h5'.\n",
      "Warning: backup file '/home/natalie/Documents/Projects/los_effects/analosis/analosis/results/chains/fit_image_1.h5' has been reset!\n"
     ]
    },
    {
     "name": "stderr",
     "output_type": "stream",
     "text": [
      "100%|██████████| 2/2 [00:02<00:00,  1.22s/it]\n"
     ]
    },
    {
     "name": "stdout",
     "output_type": "stream",
     "text": [
      "Computing the MCMC...\n",
      "Number of walkers =  260\n",
      "Burn-in iterations:  1\n",
      "Sampling iterations (in current run): 2\n",
      "4.004879474639893 time taken for MCMC sampling\n",
      "the number of walkers in this chain is 260\n",
      "Starting MCMC\n",
      "Warning: All samples (including burn-in) will be saved in backup file '/home/natalie/Documents/Projects/los_effects/analosis/analosis/results/chains/fit_image_2.h5'.\n",
      "Warning: backup file '/home/natalie/Documents/Projects/los_effects/analosis/analosis/results/chains/fit_image_2.h5' has been reset!\n"
     ]
    },
    {
     "name": "stderr",
     "output_type": "stream",
     "text": [
      "100%|██████████| 2/2 [00:01<00:00,  1.15it/s]"
     ]
    },
    {
     "name": "stdout",
     "output_type": "stream",
     "text": [
      "Computing the MCMC...\n",
      "Number of walkers =  260\n",
      "Burn-in iterations:  1\n",
      "Sampling iterations (in current run): 2\n",
      "2.6924026012420654 time taken for MCMC sampling\n",
      "the number of walkers in this chain is 260\n",
      "\n",
      "Analysis complete and results saved at /home/natalie/Documents/Projects/los_effects/analosis/analosis/results.\n"
     ]
    },
    {
     "name": "stderr",
     "output_type": "stream",
     "text": [
      "\n"
     ]
    }
   ],
   "source": [
    "result = Run(cosmology, settings, parameters)"
   ]
  },
  {
   "cell_type": "code",
   "execution_count": 4,
   "metadata": {},
   "outputs": [
    {
     "name": "stderr",
     "output_type": "stream",
     "text": [
      "../../analosis/analysis/plots.py:68: RuntimeWarning: invalid value encountered in log10\n",
      "  im = a.matshow(np.log10(image_list[i]), origin='lower', vmin=v_min, vmax=v_max, cmap=cmap, extent=[0, 1, 0, 1])\n"
     ]
    },
    {
     "data": {
      "image/png": "[encoded data removed]",
      "text/plain": [
       "<Figure size 720x720 with 3 Axes>"
      ]
     },
     "metadata": {
      "needs_background": "light"
     },
     "output_type": "display_data"
    }
   ],
   "source": [
    "from analosis.analysis.plots import Plots\n",
    "\n",
    "p = Plots()\n",
    "\n",
    "path = result.pathfinder()\n",
    "\n",
    "p.image_plot(path, settings['number_of_images'])"
   ]
  }
 ],
 "metadata": {
  "kernelspec": {
   "display_name": "Python 3",
   "language": "python",
   "name": "python3"
  },
  "language_info": {
   "codemirror_mode": {
    "name": "ipython",
    "version": 3
   },
   "file_extension": ".py",
   "mimetype": "text/x-python",
   "name": "python",
   "nbconvert_exporter": "python",
   "pygments_lexer": "ipython3",
   "version": "3.9.2"
  }
 },
 "nbformat": 4,
 "nbformat_minor": 4
}
