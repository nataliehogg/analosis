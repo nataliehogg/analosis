{
 "cells": [
  {
   "cell_type": "markdown",
   "metadata": {},
   "source": [
    "# The `analosis` package\n",
    "\n",
    "**Author**: Natalie B. Hogg\n",
    "\n",
    "The `analosis` (`analysis` + `los`) package allows us to perform various analyses of the line-of-sight effects using `lenstronomy` while maintaining the same settings across the board. \n",
    "\n",
    "**Warning**: in reality this means many parameter choices are hard-coded inside `analosis`. \n",
    "\n",
    "This notebook provides the interface with the `analosis` package, allowing you to choose what type of lensing scenario to analyse and to save the results to your machine."
   ]
  },
  {
   "cell_type": "code",
   "execution_count": 1,
   "metadata": {},
   "outputs": [],
   "source": [
    "# set the path to analosis relative to this notebook\n",
    "import sys\n",
    "sys.path.append('../..')\n",
    "\n",
    "# import the Run class which allows you to run the analysis of your choice\n",
    "from analosis.run import Run"
   ]
  },
  {
   "cell_type": "markdown",
   "metadata": {},
   "source": [
    "### Cosmology\n",
    "Choose the cosmological parameters which will be used by `lenstronomy`, `astropy` and `colossus` (for halo mass functions). The `id` must match one of those known to `colossus`: https://bdiemer.bitbucket.io/colossus/cosmology_cosmology.html#standard-cosmologies.\n",
    "\n",
    "### Scenario\n",
    "Choose the scenario you want to analyse.\n",
    "\n",
    "Options:\n",
    "* `composite lens`\n",
    "* `distributed haloes`\n",
    "\n",
    "### Complexity\n",
    "Set the model complexity: you can choose to fit the generated image with a perfect model, a perfect minimal model, or a variety of incomplete minimal models. **This choice is only relevant for the composite lens**. It will be ignored if you run the distributed haloes scenario.\n",
    "\n",
    "Options:\n",
    "* `perfect`: fits the generated image with a model consisting of `main lens` + `halo` + `LOS`\n",
    "* `perfect minimal`: fits the generated image with a model consisting of `main lens` + `halo`+ `LOS MINIMAL`\n",
    "* `missing halo`: fits the generated image with a model consisting of `main lens` +  `LOS MINIMAL`\n",
    "* `missing offset`: fits the generated image with a model consisting of `main lens` + `halo` + `LOS MINIMAL`, with the halo centre fixed to zero\n",
    "* `missing ellipticity`: fits the generated image with a model consisting of `main lens` + `halo` + `LOS MINIMAL`, with the halo ellipticity fixed to zero\n",
    "\n",
    "### Number of runs\n",
    "Choose the number of runs you want to do i.e. how many images will be created and fit.\n",
    "\n",
    "### Parameters\n",
    "Other parameters."
   ]
  },
  {
   "cell_type": "code",
   "execution_count": 4,
   "metadata": {},
   "outputs": [],
   "source": [
    "cosmology = {'id': 'planck18', 'H0': 67.4, 'Om': 0.315}\n",
    "\n",
    "settings = {'scenario': 'composite lens',\n",
    "            'complexity': 'minimal spherical halo',\n",
    "            'lens_light': False,\n",
    "            'number_of_images': 5,\n",
    "            'MCMC': True,\n",
    "            'job_name': 'test',\n",
    "            'n_burn': 1000,\n",
    "            'n_run': 1000}\n",
    "\n",
    "parameters = {'maximum_shear': 0.03,\n",
    "              'Einstein_radius_min': 0.6, # arcsec\n",
    "              'maximum_source_offset_factor': 1,\n",
    "              'sigma_halo_offset': 300} # pc"
   ]
  },
  {
   "cell_type": "markdown",
   "metadata": {},
   "source": [
    "### Run\n",
    "Finally, run the analysis. Note that you don't need to specify a path where you want your results to be saved: `analosis` automatically saves everything to a dedicated results directory. **Please don't push the contents of this directory to github!** (There is a .gitignore in place to prevent this, so you shouldn't have to worry about doing it accidentally)."
   ]
  },
  {
   "cell_type": "code",
   "execution_count": 5,
   "metadata": {},
   "outputs": [
    {
     "name": "stdout",
     "output_type": "stream",
     "text": [
      "Running the composite lens case with the following settings:\n",
      "\n",
      "Model: minimal spherical halo\n",
      "Number of runs: 5\n",
      "Lens light: False\n",
      "Starting MCMC\n",
      "Warning: All samples (including burn-in) will be saved in backup file '/Users/pierrefleury/GitHub/analosis/analosis/results/chains/test_0.h5'.\n",
      "Warning: backup file '/Users/pierrefleury/GitHub/analosis/analosis/results/chains/test_0.h5' has been reset!\n"
     ]
    },
    {
     "name": "stderr",
     "output_type": "stream",
     "text": [
      "100%|██████████| 2000/2000 [06:33<00:00,  5.08it/s]\n"
     ]
    },
    {
     "name": "stdout",
     "output_type": "stream",
     "text": [
      "Computing the MCMC...\n",
      "Number of walkers =  200\n",
      "Burn-in iterations:  1000\n",
      "Sampling iterations (in current run): 2000\n",
      "393.8126699924469 time taken for MCMC sampling\n",
      "the number of walkers in this chain is 200\n",
      "Starting MCMC\n",
      "Warning: All samples (including burn-in) will be saved in backup file '/Users/pierrefleury/GitHub/analosis/analosis/results/chains/test_1.h5'.\n",
      "Warning: backup file '/Users/pierrefleury/GitHub/analosis/analosis/results/chains/test_1.h5' has been reset!\n"
     ]
    },
    {
     "name": "stderr",
     "output_type": "stream",
     "text": [
      "100%|██████████| 2000/2000 [06:39<00:00,  5.01it/s]\n"
     ]
    },
    {
     "name": "stdout",
     "output_type": "stream",
     "text": [
      "Computing the MCMC...\n",
      "Number of walkers =  200\n",
      "Burn-in iterations:  1000\n",
      "Sampling iterations (in current run): 2000\n",
      "399.44378209114075 time taken for MCMC sampling\n",
      "the number of walkers in this chain is 200\n",
      "Starting MCMC\n",
      "Warning: All samples (including burn-in) will be saved in backup file '/Users/pierrefleury/GitHub/analosis/analosis/results/chains/test_2.h5'.\n",
      "Warning: backup file '/Users/pierrefleury/GitHub/analosis/analosis/results/chains/test_2.h5' has been reset!\n"
     ]
    },
    {
     "name": "stderr",
     "output_type": "stream",
     "text": [
      "100%|██████████| 2000/2000 [06:50<00:00,  4.87it/s]\n"
     ]
    },
    {
     "name": "stdout",
     "output_type": "stream",
     "text": [
      "Computing the MCMC...\n",
      "Number of walkers =  200\n",
      "Burn-in iterations:  1000\n",
      "Sampling iterations (in current run): 2000\n",
      "410.8372721672058 time taken for MCMC sampling\n",
      "the number of walkers in this chain is 200\n",
      "Starting MCMC\n",
      "Warning: All samples (including burn-in) will be saved in backup file '/Users/pierrefleury/GitHub/analosis/analosis/results/chains/test_3.h5'.\n",
      "Warning: backup file '/Users/pierrefleury/GitHub/analosis/analosis/results/chains/test_3.h5' has been reset!\n"
     ]
    },
    {
     "name": "stderr",
     "output_type": "stream",
     "text": [
      "100%|██████████| 2000/2000 [06:55<00:00,  4.82it/s]\n"
     ]
    },
    {
     "name": "stdout",
     "output_type": "stream",
     "text": [
      "Computing the MCMC...\n",
      "Number of walkers =  200\n",
      "Burn-in iterations:  1000\n",
      "Sampling iterations (in current run): 2000\n",
      "415.3443908691406 time taken for MCMC sampling\n",
      "the number of walkers in this chain is 200\n",
      "Starting MCMC\n",
      "Warning: All samples (including burn-in) will be saved in backup file '/Users/pierrefleury/GitHub/analosis/analosis/results/chains/test_4.h5'.\n",
      "Warning: backup file '/Users/pierrefleury/GitHub/analosis/analosis/results/chains/test_4.h5' has been reset!\n"
     ]
    },
    {
     "name": "stderr",
     "output_type": "stream",
     "text": [
      "100%|██████████| 2000/2000 [07:20<00:00,  4.54it/s]"
     ]
    },
    {
     "name": "stdout",
     "output_type": "stream",
     "text": [
      "Computing the MCMC...\n",
      "Number of walkers =  200\n",
      "Burn-in iterations:  1000\n",
      "Sampling iterations (in current run): 2000\n",
      "441.2263398170471 time taken for MCMC sampling\n",
      "the number of walkers in this chain is 200\n",
      "\n",
      "Analysis complete and results saved at /Users/pierrefleury/GitHub/analosis/analosis/results.\n"
     ]
    },
    {
     "name": "stderr",
     "output_type": "stream",
     "text": [
      "\n"
     ]
    }
   ],
   "source": [
    "result = Run(cosmology, settings, parameters)"
   ]
  },
  {
   "cell_type": "code",
   "execution_count": 6,
   "metadata": {},
   "outputs": [],
   "source": [
    "from analosis.analysis.plots import Plots\n",
    "p = Plots()\n",
    "#path = result.pathfinder()\n",
    "path = '/Users/pierrefleury/GitHub/analosis/analosis/results'"
   ]
  },
  {
   "cell_type": "markdown",
   "metadata": {},
   "source": [
    "### Image plot"
   ]
  },
  {
   "cell_type": "code",
   "execution_count": 7,
   "metadata": {},
   "outputs": [
    {
     "name": "stdout",
     "output_type": "stream",
     "text": [
      "Preparing image plot...\n"
     ]
    },
    {
     "name": "stderr",
     "output_type": "stream",
     "text": [
      "../../analosis/analysis/plots.py:68: RuntimeWarning: invalid value encountered in log10\n",
      "  im = ax.matshow(np.log10(image_list[n]), origin='lower', vmin=v_min, vmax=v_max, cmap=cmap, extent=[0, 1, 0, 1])\n"
     ]
    },
    {
     "data": {
      "image/png": "[encoded data removed]",
      "text/plain": [
       "<Figure size 864x864 with 10 Axes>"
      ]
     },
     "metadata": {
      "needs_background": "light"
     },
     "output_type": "display_data"
    }
   ],
   "source": [
    "p.image_plot(path, settings, number_of_columns=10)"
   ]
  },
  {
   "cell_type": "markdown",
   "metadata": {},
   "source": [
    "### Input vs output plot"
   ]
  },
  {
   "cell_type": "code",
   "execution_count": 8,
   "metadata": {},
   "outputs": [
    {
     "name": "stderr",
     "output_type": "stream",
     "text": [
      "WARNING:chainconsumer:Parameter gamma1_los in chain Chain 0 is not constrained\n",
      "WARNING:chainconsumer:Parameter gamma1_los in chain Chain 1 is not constrained\n",
      "WARNING:chainconsumer:Parameter gamma2_los in chain Chain 1 is not constrained\n",
      "WARNING:chainconsumer:Parameter gamma1_los in chain Chain 2 is not constrained\n",
      "WARNING:chainconsumer:Parameter gamma1_los in chain Chain 3 is not constrained\n",
      "WARNING:chainconsumer:Parameter gamma1_los in chain Chain 4 is not constrained\n"
     ]
    },
    {
     "data": {
      "image/png": "[encoded data removed]",
      "text/plain": [
       "<Figure size 504x504 with 1 Axes>"
      ]
     },
     "metadata": {
      "needs_background": "light"
     },
     "output_type": "display_data"
    }
   ],
   "source": [
    "p.input_output_plot(path, settings, show_not_converged=True)"
   ]
  },
  {
   "cell_type": "markdown",
   "metadata": {},
   "source": [
    "### Examine input kwargs"
   ]
  },
  {
   "cell_type": "code",
   "execution_count": 9,
   "metadata": {},
   "outputs": [
    {
     "data": {
      "text/html": [
       "<div>\n",
       "<style scoped>\n",
       "    .dataframe tbody tr th:only-of-type {\n",
       "        vertical-align: middle;\n",
       "    }\n",
       "\n",
       "    .dataframe tbody tr th {\n",
       "        vertical-align: top;\n",
       "    }\n",
       "\n",
       "    .dataframe thead th {\n",
       "        text-align: right;\n",
       "    }\n",
       "</style>\n",
       "<table border=\"1\" class=\"dataframe\">\n",
       "  <thead>\n",
       "    <tr style=\"text-align: right;\">\n",
       "      <th></th>\n",
       "      <th>R_sersic_bar</th>\n",
       "      <th>n_sersic_bar</th>\n",
       "      <th>k_eff_bar</th>\n",
       "      <th>e1_bar</th>\n",
       "      <th>e2_bar</th>\n",
       "      <th>x_bar</th>\n",
       "      <th>y_bar</th>\n",
       "      <th>Rs</th>\n",
       "      <th>alpha_Rs</th>\n",
       "      <th>x_nfw</th>\n",
       "      <th>...</th>\n",
       "      <th>y_ll</th>\n",
       "      <th>amp_ll</th>\n",
       "      <th>amp_sl</th>\n",
       "      <th>R_sersic_sl</th>\n",
       "      <th>n_sersic_sl</th>\n",
       "      <th>x_sl</th>\n",
       "      <th>y_sl</th>\n",
       "      <th>e1_sl</th>\n",
       "      <th>e2_sl</th>\n",
       "      <th>estimated theta_E [arcsec]</th>\n",
       "    </tr>\n",
       "  </thead>\n",
       "  <tbody>\n",
       "    <tr>\n",
       "      <th>0</th>\n",
       "      <td>0.324797</td>\n",
       "      <td>4.517802</td>\n",
       "      <td>0.092870</td>\n",
       "      <td>0.579344</td>\n",
       "      <td>0.132335</td>\n",
       "      <td>0</td>\n",
       "      <td>0</td>\n",
       "      <td>4.923680</td>\n",
       "      <td>0.813083</td>\n",
       "      <td>0.039988</td>\n",
       "      <td>...</td>\n",
       "      <td>0</td>\n",
       "      <td>2758.522891</td>\n",
       "      <td>120.077535</td>\n",
       "      <td>0.325505</td>\n",
       "      <td>4.276512</td>\n",
       "      <td>0.361080</td>\n",
       "      <td>0.123674</td>\n",
       "      <td>-0.279378</td>\n",
       "      <td>0.033881</td>\n",
       "      <td>0.815420</td>\n",
       "    </tr>\n",
       "    <tr>\n",
       "      <th>1</th>\n",
       "      <td>0.572638</td>\n",
       "      <td>4.204427</td>\n",
       "      <td>0.062239</td>\n",
       "      <td>0.086340</td>\n",
       "      <td>0.149695</td>\n",
       "      <td>0</td>\n",
       "      <td>0</td>\n",
       "      <td>7.979347</td>\n",
       "      <td>1.213257</td>\n",
       "      <td>-0.030418</td>\n",
       "      <td>...</td>\n",
       "      <td>0</td>\n",
       "      <td>6305.826305</td>\n",
       "      <td>131.161565</td>\n",
       "      <td>0.151424</td>\n",
       "      <td>3.967885</td>\n",
       "      <td>0.039835</td>\n",
       "      <td>-0.033116</td>\n",
       "      <td>0.108995</td>\n",
       "      <td>-0.588947</td>\n",
       "      <td>1.141641</td>\n",
       "    </tr>\n",
       "    <tr>\n",
       "      <th>2</th>\n",
       "      <td>0.230259</td>\n",
       "      <td>3.615645</td>\n",
       "      <td>0.137584</td>\n",
       "      <td>0.034993</td>\n",
       "      <td>-0.131433</td>\n",
       "      <td>0</td>\n",
       "      <td>0</td>\n",
       "      <td>5.278967</td>\n",
       "      <td>0.602634</td>\n",
       "      <td>0.036546</td>\n",
       "      <td>...</td>\n",
       "      <td>0</td>\n",
       "      <td>2118.798473</td>\n",
       "      <td>259.947337</td>\n",
       "      <td>0.514328</td>\n",
       "      <td>3.430963</td>\n",
       "      <td>0.132251</td>\n",
       "      <td>-0.423117</td>\n",
       "      <td>-0.109032</td>\n",
       "      <td>-0.631179</td>\n",
       "      <td>0.602977</td>\n",
       "    </tr>\n",
       "    <tr>\n",
       "      <th>3</th>\n",
       "      <td>0.268942</td>\n",
       "      <td>3.695838</td>\n",
       "      <td>0.137616</td>\n",
       "      <td>0.162288</td>\n",
       "      <td>-0.238143</td>\n",
       "      <td>0</td>\n",
       "      <td>0</td>\n",
       "      <td>4.092257</td>\n",
       "      <td>0.530848</td>\n",
       "      <td>0.001729</td>\n",
       "      <td>...</td>\n",
       "      <td>0</td>\n",
       "      <td>2779.573575</td>\n",
       "      <td>113.753946</td>\n",
       "      <td>0.097729</td>\n",
       "      <td>2.805582</td>\n",
       "      <td>-0.020922</td>\n",
       "      <td>-0.062010</td>\n",
       "      <td>0.133238</td>\n",
       "      <td>0.238855</td>\n",
       "      <td>0.701254</td>\n",
       "    </tr>\n",
       "    <tr>\n",
       "      <th>4</th>\n",
       "      <td>0.429822</td>\n",
       "      <td>5.050928</td>\n",
       "      <td>0.070487</td>\n",
       "      <td>-0.244972</td>\n",
       "      <td>0.078212</td>\n",
       "      <td>0</td>\n",
       "      <td>0</td>\n",
       "      <td>6.566983</td>\n",
       "      <td>0.813610</td>\n",
       "      <td>0.003666</td>\n",
       "      <td>...</td>\n",
       "      <td>0</td>\n",
       "      <td>4786.729235</td>\n",
       "      <td>295.252275</td>\n",
       "      <td>0.165856</td>\n",
       "      <td>3.894319</td>\n",
       "      <td>0.069925</td>\n",
       "      <td>-0.134807</td>\n",
       "      <td>-0.356273</td>\n",
       "      <td>-0.311576</td>\n",
       "      <td>0.881644</td>\n",
       "    </tr>\n",
       "  </tbody>\n",
       "</table>\n",
       "<p>5 rows × 44 columns</p>\n",
       "</div>"
      ],
      "text/plain": [
       "   R_sersic_bar  n_sersic_bar  k_eff_bar    e1_bar    e2_bar  x_bar  y_bar  \\\n",
       "0      0.324797      4.517802   0.092870  0.579344  0.132335      0      0   \n",
       "1      0.572638      4.204427   0.062239  0.086340  0.149695      0      0   \n",
       "2      0.230259      3.615645   0.137584  0.034993 -0.131433      0      0   \n",
       "3      0.268942      3.695838   0.137616  0.162288 -0.238143      0      0   \n",
       "4      0.429822      5.050928   0.070487 -0.244972  0.078212      0      0   \n",
       "\n",
       "         Rs  alpha_Rs     x_nfw  ...  y_ll       amp_ll      amp_sl  \\\n",
       "0  4.923680  0.813083  0.039988  ...     0  2758.522891  120.077535   \n",
       "1  7.979347  1.213257 -0.030418  ...     0  6305.826305  131.161565   \n",
       "2  5.278967  0.602634  0.036546  ...     0  2118.798473  259.947337   \n",
       "3  4.092257  0.530848  0.001729  ...     0  2779.573575  113.753946   \n",
       "4  6.566983  0.813610  0.003666  ...     0  4786.729235  295.252275   \n",
       "\n",
       "   R_sersic_sl  n_sersic_sl      x_sl      y_sl     e1_sl     e2_sl  \\\n",
       "0     0.325505     4.276512  0.361080  0.123674 -0.279378  0.033881   \n",
       "1     0.151424     3.967885  0.039835 -0.033116  0.108995 -0.588947   \n",
       "2     0.514328     3.430963  0.132251 -0.423117 -0.109032 -0.631179   \n",
       "3     0.097729     2.805582 -0.020922 -0.062010  0.133238  0.238855   \n",
       "4     0.165856     3.894319  0.069925 -0.134807 -0.356273 -0.311576   \n",
       "\n",
       "   estimated theta_E [arcsec]  \n",
       "0                    0.815420  \n",
       "1                    1.141641  \n",
       "2                    0.602977  \n",
       "3                    0.701254  \n",
       "4                    0.881644  \n",
       "\n",
       "[5 rows x 44 columns]"
      ]
     },
     "execution_count": 9,
     "metadata": {},
     "output_type": "execute_result"
    }
   ],
   "source": [
    "import pandas as pd\n",
    "kwargs = pd.read_csv(path + '/datasets//input_kwargs.csv')\n",
    "kwargs"
   ]
  }
 ],
 "metadata": {
  "kernelspec": {
   "display_name": "Python 3",
   "language": "python",
   "name": "python3"
  },
  "language_info": {
   "codemirror_mode": {
    "name": "ipython",
    "version": 3
   },
   "file_extension": ".py",
   "mimetype": "text/x-python",
   "name": "python",
   "nbconvert_exporter": "python",
   "pygments_lexer": "ipython3",
   "version": "3.9.2"
  }
 },
 "nbformat": 4,
 "nbformat_minor": 4
}
