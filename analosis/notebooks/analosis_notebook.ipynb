{
 "cells": [
  {
   "cell_type": "markdown",
   "metadata": {},
   "source": [
    "# The `analosis` package\n",
    "\n",
    "**Author**: Natalie B. Hogg\n",
    "\n",
    "The `analosis` (`analysis` + `los`) package allows us to perform various analyses of the line-of-sight effects using `lenstronomy` while maintaining the same settings across the board. \n",
    "\n",
    "**Warning**: in reality this means many parameter choices are hard-coded inside `analosis`. \n",
    "\n",
    "This notebook provides the interface with the `analosis` package, allowing you to choose what type of lensing scenario to analyse and to save the results to your machine."
   ]
  },
  {
   "cell_type": "code",
   "execution_count": 1,
   "metadata": {},
   "outputs": [],
   "source": [
    "# set the path to analosis relative to this notebook\n",
    "import sys\n",
    "sys.path.append('../..')\n",
    "\n",
    "# import the Run class which allows you to run the analysis of your choice\n",
    "from analosis.run import Run"
   ]
  },
  {
   "cell_type": "markdown",
   "metadata": {},
   "source": [
    "### Cosmology\n",
    "Choose the cosmological parameters which will be used by `lenstronomy`, `astropy` and `colossus` (for halo mass functions). The `id` must match one of those known to `colossus`: https://bdiemer.bitbucket.io/colossus/cosmology_cosmology.html#standard-cosmologies.\n",
    "\n",
    "### Scenario\n",
    "Choose the scenario you want to analyse.\n",
    "\n",
    "Options:\n",
    "* `composite lens`\n",
    "* `distributed haloes`\n",
    "\n",
    "### Complexity\n",
    "Set the model complexity: you can choose to fit the generated image with a perfect model, a perfect minimal model, or a variety of incomplete minimal models. **This choice is only relevant for the composite lens**. It will be ignored if you run the distributed haloes scenario.\n",
    "\n",
    "Options:\n",
    "* `perfect`: fits the generated image with a model consisting of `main lens` + `halo` + `LOS`\n",
    "* `perfect minimal`: fits the generated image with a model consisting of `main lens` + `halo`+ `LOS MINIMAL`\n",
    "* `missing halo`: fits the generated image with a model consisting of `main lens` +  `LOS MINIMAL`\n",
    "* `missing offset`: fits the generated image with a model consisting of `main lens` + `halo` + `LOS MINIMAL`, with the halo centre fixed to zero\n",
    "* `missing ellipticity`: fits the generated image with a model consisting of `main lens` + `halo` + `LOS MINIMAL`, with the halo ellipticity fixed to zero\n",
    "\n",
    "### Number of runs\n",
    "Choose the number of runs you want to do i.e. how many images will be created and fit.\n",
    "\n",
    "### Parameters\n",
    "Other parameters."
   ]
  },
  {
   "cell_type": "code",
   "execution_count": 2,
   "metadata": {},
   "outputs": [],
   "source": [
    "cosmology = {'id': 'planck18', 'H0': 67.4, 'Om': 0.315}\n",
    "\n",
    "settings = {'scenario': 'composite lens',\n",
    "            'complexity': 'perfect minimal',\n",
    "            'lens_light': False,\n",
    "            'number_of_images': 3,\n",
    "            'MCMC': False,\n",
    "            'n_burn': 1,\n",
    "            'n_run': 1}\n",
    "\n",
    "parameters = {'maximum_shear': 0.03,\n",
    "              'Einstein_radius_min': 0.5, # arcsec\n",
    "              'maximum_source_offset_factor': 1,\n",
    "              'sigma_halo_offset': 300} # pc"
   ]
  },
  {
   "cell_type": "markdown",
   "metadata": {},
   "source": [
    "### Run\n",
    "Finally, run the analysis. Note that you don't need to specify a path where you want your results to be saved: `analosis` automatically saves everything to a dedicated results directory. **Please don't push the contents of this directory to github!** (There is a .gitignore in place to prevent this, so you shouldn't have to worry about doing it accidentally)."
   ]
  },
  {
   "cell_type": "code",
   "execution_count": 3,
   "metadata": {},
   "outputs": [
    {
     "name": "stdout",
     "output_type": "stream",
     "text": [
      "Running the composite lens case with the following settings:\n",
      "\n",
      "Model: perfect minimal\n",
      "Number of runs: 3\n",
      "Lens light: False\n",
      "MCMC will not be run.\n",
      "\n",
      "Analysis complete and results saved at /home/natalie/Documents/Projects/los_effects/analosis/analosis/results.\n"
     ]
    }
   ],
   "source": [
    "result = Run(cosmology, settings, parameters)"
   ]
  },
  {
   "cell_type": "code",
   "execution_count": 4,
   "metadata": {},
   "outputs": [],
   "source": [
    "from analosis.analysis.plots import Plots\n",
    "p = Plots()\n",
    "path = result.pathfinder()"
   ]
  },
  {
   "cell_type": "markdown",
   "metadata": {},
   "source": [
    "### Image plot"
   ]
  },
  {
   "cell_type": "code",
   "execution_count": 5,
   "metadata": {},
   "outputs": [],
   "source": [
    "# p.image_plot(path, settings['number_of_images'], number_of_columns=3)"
   ]
  },
  {
   "cell_type": "markdown",
   "metadata": {},
   "source": [
    "### Input vs output plot"
   ]
  },
  {
   "cell_type": "code",
   "execution_count": 6,
   "metadata": {},
   "outputs": [
    {
     "name": "stderr",
     "output_type": "stream",
     "text": [
      "INFO:numexpr.utils:NumExpr defaulting to 4 threads.\n",
      "WARNING:chainconsumer:Parameter gamma2_los in chain Chain 1 is not constrained\n",
      "WARNING:chainconsumer:Parameter gamma1_los in chain Chain 2 is not constrained\n"
     ]
    },
    {
     "data": {
      "image/png": "[encoded data removed]",
      "text/plain": [
       "<Figure size 504x504 with 1 Axes>"
      ]
     },
     "metadata": {
      "needs_background": "light"
     },
     "output_type": "display_data"
    }
   ],
   "source": [
    "p.input_output_plot(path, settings['number_of_images'], settings['n_burn'], show_not_converged=True)"
   ]
  }
 ],
 "metadata": {
  "kernelspec": {
   "display_name": "Python 3",
   "language": "python",
   "name": "python3"
  },
  "language_info": {
   "codemirror_mode": {
    "name": "ipython",
    "version": 3
   },
   "file_extension": ".py",
   "mimetype": "text/x-python",
   "name": "python",
   "nbconvert_exporter": "python",
   "pygments_lexer": "ipython3",
   "version": "3.8.5"
  }
 },
 "nbformat": 4,
 "nbformat_minor": 4
}
