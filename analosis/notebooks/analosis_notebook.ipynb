{
 "cells": [
  {
   "cell_type": "markdown",
   "metadata": {},
   "source": [
    "# The `analosis` package\n",
    "\n",
    "**Author**: Natalie B. Hogg\n",
    "\n",
    "The `analosis` (`analysis` + `los`) package allows us to perform various analyses of the line-of-sight effects using `lenstronomy` while maintaining the same settings across the board. \n",
    "\n",
    "**Warning**: in reality this means many parameter choices are hard-coded inside `analosis`. \n",
    "\n",
    "This notebook provides the interface with the `analosis` package, allowing you to choose what type of lensing scenario to analyse and to save the results to your machine."
   ]
  },
  {
   "cell_type": "code",
   "execution_count": 15,
   "metadata": {},
   "outputs": [],
   "source": [
    "# set the path to analosis relative to this notebook\n",
    "import sys\n",
    "sys.path.append('../..')\n",
    "\n",
    "# import the Run class which allows you to run the analysis of your choice\n",
    "from analosis.run import Run"
   ]
  },
  {
   "cell_type": "markdown",
   "metadata": {},
   "source": [
    "### Cosmology\n",
    "Choose the cosmological parameters which will be used by `lenstronomy`, `astropy` and `colossus` (for halo mass functions). The `id` must match one of those known to `colossus`: https://bdiemer.bitbucket.io/colossus/cosmology_cosmology.html#standard-cosmologies.\n",
    "\n",
    "### Scenario\n",
    "Choose the scenario you want to analyse.\n",
    "\n",
    "Options:\n",
    "* `composite lens`\n",
    "* `distributed haloes`\n",
    "\n",
    "### Complexity\n",
    "Set the model complexity: you can choose to fit the generated image with a perfect model, a perfect minimal model, or a variety of incomplete minimal models. **This choice is only relevant for the composite lens**. It will be ignored if you run the distributed haloes scenario.\n",
    "\n",
    "Options:\n",
    "* `perfect`: fits the generated image with a model consisting of `main lens` + `halo` + `LOS`\n",
    "* `perfect minimal`: fits the generated image with a model consisting of `main lens` + `halo`+ `LOS MINIMAL`\n",
    "* `power law`: fits the generated image with a model consisting of `main lens`=`EPL` +  `LOS MINIMAL`\n",
    "* `missing offset`: fits the generated image with a model consisting of `main lens` + `halo` + `LOS MINIMAL`, with the halo centre fixed to zero\n",
    "* `missing halo ellipticity`: fits the generated image with a model consisting of `main lens` + `halo` + `LOS MINIMAL`, with the halo ellipticity fixed to zero\n",
    "* `missing foreground shear`: fits the generated image with a model consisting of `main lens` + `halo` + `LOS MINIMAL`, with gamma_od fixed to zero\n",
    "\n",
    "### Number of runs\n",
    "Choose the number of runs you want to do i.e. how many images will be created and fit.\n",
    "\n",
    "### Parameters\n",
    "Other parameters."
   ]
  },
  {
   "cell_type": "code",
   "execution_count": 21,
   "metadata": {},
   "outputs": [],
   "source": [
    "cosmology = {'id': 'planck18', 'H0': 67.4, 'Om': 0.315}\n",
    "\n",
    "settings = {'scenario': 'composite lens',\n",
    "            'complexity': 'perfect minimal',\n",
    "            'lens_light': False,\n",
    "            'number_of_images': 2,\n",
    "            'MCMC': True,\n",
    "            'job_name': 'test',\n",
    "            'n_burn': 5,\n",
    "            'n_run': 10}\n",
    "\n",
    "parameters = {'maximum_shear': 0.03,\n",
    "              'Einstein_radius_min': 0.5, # arcsec\n",
    "              'maximum_source_offset_factor': 1, # in units of the source half-light radius\n",
    "              'sigma_halo_offset': 300} # pc"
   ]
  },
  {
   "cell_type": "markdown",
   "metadata": {},
   "source": [
    "### Run\n",
    "Finally, run the analysis. Note that you don't need to specify a path where you want your results to be saved: `analosis` automatically saves everything to a dedicated results directory. **Please don't push the contents of this directory to github!** (There is a .gitignore in place to prevent this, so you shouldn't have to worry about doing it accidentally)."
   ]
  },
  {
   "cell_type": "code",
   "execution_count": 22,
   "metadata": {},
   "outputs": [
    {
     "name": "stdout",
     "output_type": "stream",
     "text": [
      "Running the composite lens case with the following settings:\n",
      "\n",
      "Model: perfect minimal\n",
      "Number of images: 2\n",
      "Lens light: False\n",
      "Starting MCMC\n"
     ]
    },
    {
     "name": "stderr",
     "output_type": "stream",
     "text": [
      "INFO:lenstronomy.Sampling.Pool.pool:Running with MultiPool on 16 cores\n"
     ]
    },
    {
     "name": "stdout",
     "output_type": "stream",
     "text": [
      "Warning: All samples (including burn-in) will be saved in backup file '/Users/pierrefleury/GitHub/analosis/analosis/results/chains/test_0.h5'.\n",
      "Warning: backup file '/Users/pierrefleury/GitHub/analosis/analosis/results/chains/test_0.h5' has been reset!\n"
     ]
    },
    {
     "name": "stderr",
     "output_type": "stream",
     "text": [
      "100%|██████████| 15/15 [00:11<00:00,  1.31it/s]\n"
     ]
    },
    {
     "name": "stdout",
     "output_type": "stream",
     "text": [
      "Computing the MCMC...\n",
      "Number of walkers =  220\n",
      "Burn-in iterations:  5\n",
      "Sampling iterations (in current run): 15\n",
      "11.868098974227905 time taken for MCMC sampling\n",
      "the number of walkers in this chain is 220\n",
      "Starting MCMC\n"
     ]
    },
    {
     "name": "stderr",
     "output_type": "stream",
     "text": [
      "INFO:lenstronomy.Sampling.Pool.pool:Running with MultiPool on 16 cores\n"
     ]
    },
    {
     "name": "stdout",
     "output_type": "stream",
     "text": [
      "Warning: All samples (including burn-in) will be saved in backup file '/Users/pierrefleury/GitHub/analosis/analosis/results/chains/test_1.h5'.\n",
      "Warning: backup file '/Users/pierrefleury/GitHub/analosis/analosis/results/chains/test_1.h5' has been reset!\n"
     ]
    },
    {
     "name": "stderr",
     "output_type": "stream",
     "text": [
      "100%|██████████| 15/15 [00:11<00:00,  1.32it/s]"
     ]
    },
    {
     "name": "stdout",
     "output_type": "stream",
     "text": [
      "Computing the MCMC...\n",
      "Number of walkers =  220\n",
      "Burn-in iterations:  5\n",
      "Sampling iterations (in current run): 15\n",
      "11.7503080368042 time taken for MCMC sampling\n",
      "the number of walkers in this chain is 220\n",
      "\n",
      "Analysis complete and results saved at /Users/pierrefleury/GitHub/analosis/analosis/results.\n"
     ]
    },
    {
     "name": "stderr",
     "output_type": "stream",
     "text": [
      "\n"
     ]
    }
   ],
   "source": [
    "result = Run(cosmology, settings, parameters)"
   ]
  },
  {
   "cell_type": "code",
   "execution_count": 23,
   "metadata": {},
   "outputs": [],
   "source": [
    "from analosis.analysis.plots import Plots\n",
    "#path = result.pathfinder()\n",
    "path = '/Users/pierrefleury/GitHub/analosis/analosis/results'\n",
    "p = Plots(cosmology, path)"
   ]
  },
  {
   "cell_type": "markdown",
   "metadata": {},
   "source": [
    "### Image plot"
   ]
  },
  {
   "cell_type": "code",
   "execution_count": 24,
   "metadata": {},
   "outputs": [
    {
     "name": "stderr",
     "output_type": "stream",
     "text": [
      "../../analosis/analysis/plots.py:74: RuntimeWarning: invalid value encountered in log10\n",
      "  im = ax.matshow(np.log10(image_list[n]), origin='lower', vmin=v_min, vmax=v_max, cmap=cmap, extent=[0, 1, 0, 1])\n"
     ]
    },
    {
     "name": "stdout",
     "output_type": "stream",
     "text": [
      "Preparing image plot...\n"
     ]
    },
    {
     "data": {
      "image/png": "[encoded data removed]",
      "text/plain": [
       "<Figure size 864x864 with 2 Axes>"
      ]
     },
     "metadata": {
      "needs_background": "light"
     },
     "output_type": "display_data"
    }
   ],
   "source": [
    "p.image_plot(path, settings, number_of_columns=2)"
   ]
  },
  {
   "cell_type": "markdown",
   "metadata": {},
   "source": [
    "### Input vs output plot"
   ]
  },
  {
   "cell_type": "code",
   "execution_count": 25,
   "metadata": {},
   "outputs": [
    {
     "data": {
      "image/png": "[encoded data removed]",
      "text/plain": [
       "<Figure size 792x360 with 4 Axes>"
      ]
     },
     "metadata": {
      "needs_background": "light"
     },
     "output_type": "display_data"
    },
    {
     "data": {
      "text/plain": [
       "<Figure size 432x288 with 0 Axes>"
      ]
     },
     "metadata": {},
     "output_type": "display_data"
    }
   ],
   "source": [
    "p.input_output_plot(path, settings, show_not_converged=True)"
   ]
  },
  {
   "cell_type": "markdown",
   "metadata": {},
   "source": [
    "### Individual contours"
   ]
  },
  {
   "cell_type": "code",
   "execution_count": 7,
   "metadata": {},
   "outputs": [
    {
     "ename": "AttributeError",
     "evalue": "You must run the sampler with 'store == True' before accessing the results",
     "output_type": "error",
     "traceback": [
      "\u001b[0;31m---------------------------------------------------------------------------\u001b[0m",
      "\u001b[0;31mAttributeError\u001b[0m                            Traceback (most recent call last)",
      "\u001b[0;32m<ipython-input-7-77b055d1765f>\u001b[0m in \u001b[0;36m<module>\u001b[0;34m\u001b[0m\n\u001b[1;32m      1\u001b[0m \u001b[0mplot_params\u001b[0m \u001b[0;34m=\u001b[0m \u001b[0;34m{\u001b[0m\u001b[0;34m'gamma1_los'\u001b[0m\u001b[0;34m,\u001b[0m \u001b[0;34m'gamma2_los'\u001b[0m\u001b[0;34m}\u001b[0m\u001b[0;34m\u001b[0m\u001b[0;34m\u001b[0m\u001b[0m\n\u001b[0;32m----> 2\u001b[0;31m \u001b[0mp\u001b[0m\u001b[0;34m.\u001b[0m\u001b[0mcontour_plot\u001b[0m\u001b[0;34m(\u001b[0m\u001b[0mpath\u001b[0m\u001b[0;34m,\u001b[0m \u001b[0msettings\u001b[0m\u001b[0;34m,\u001b[0m \u001b[0;36m4\u001b[0m\u001b[0;34m,\u001b[0m \u001b[0mplot_params\u001b[0m\u001b[0;34m,\u001b[0m \u001b[0;34m(\u001b[0m\u001b[0;36m6\u001b[0m\u001b[0;34m,\u001b[0m \u001b[0;36m6\u001b[0m\u001b[0;34m)\u001b[0m\u001b[0;34m,\u001b[0m \u001b[0mdraft\u001b[0m\u001b[0;34m=\u001b[0m\u001b[0;32mTrue\u001b[0m\u001b[0;34m,\u001b[0m \u001b[0msave\u001b[0m\u001b[0;34m=\u001b[0m\u001b[0;32mFalse\u001b[0m\u001b[0;34m,\u001b[0m \u001b[0mshow\u001b[0m\u001b[0;34m=\u001b[0m\u001b[0;32mTrue\u001b[0m\u001b[0;34m)\u001b[0m\u001b[0;34m\u001b[0m\u001b[0;34m\u001b[0m\u001b[0m\n\u001b[0m",
      "\u001b[0;32m~/GitHub/analosis/analosis/analysis/plots.py\u001b[0m in \u001b[0;36mcontour_plot\u001b[0;34m(self, path, settings, chain_number, plot_params, size, draft, save, show)\u001b[0m\n\u001b[1;32m    282\u001b[0m         \u001b[0mreader\u001b[0m \u001b[0;34m=\u001b[0m \u001b[0memcee\u001b[0m\u001b[0;34m.\u001b[0m\u001b[0mbackends\u001b[0m\u001b[0;34m.\u001b[0m\u001b[0mHDFBackend\u001b[0m\u001b[0;34m(\u001b[0m\u001b[0mfilename\u001b[0m\u001b[0;34m,\u001b[0m \u001b[0mname\u001b[0m\u001b[0;34m=\u001b[0m\u001b[0;34m'lenstronomy_mcmc_emcee'\u001b[0m\u001b[0;34m)\u001b[0m\u001b[0;34m\u001b[0m\u001b[0;34m\u001b[0m\u001b[0m\n\u001b[1;32m    283\u001b[0m \u001b[0;34m\u001b[0m\u001b[0m\n\u001b[0;32m--> 284\u001b[0;31m         \u001b[0msamples\u001b[0m \u001b[0;34m=\u001b[0m \u001b[0mreader\u001b[0m\u001b[0;34m.\u001b[0m\u001b[0mget_chain\u001b[0m\u001b[0;34m(\u001b[0m\u001b[0mdiscard\u001b[0m\u001b[0;34m=\u001b[0m\u001b[0msettings\u001b[0m\u001b[0;34m[\u001b[0m\u001b[0;34m'n_burn'\u001b[0m\u001b[0;34m]\u001b[0m\u001b[0;34m,\u001b[0m \u001b[0mflat\u001b[0m\u001b[0;34m=\u001b[0m\u001b[0;32mTrue\u001b[0m\u001b[0;34m,\u001b[0m \u001b[0mthin\u001b[0m\u001b[0;34m=\u001b[0m\u001b[0mthin\u001b[0m\u001b[0;34m)\u001b[0m\u001b[0;34m\u001b[0m\u001b[0;34m\u001b[0m\u001b[0m\n\u001b[0m\u001b[1;32m    285\u001b[0m \u001b[0;34m\u001b[0m\u001b[0m\n\u001b[1;32m    286\u001b[0m         \u001b[0;31m# get the list of LaTeX strings for our params\u001b[0m\u001b[0;34m\u001b[0m\u001b[0;34m\u001b[0m\u001b[0;34m\u001b[0m\u001b[0m\n",
      "\u001b[0;32m/Library/Frameworks/Python.framework/Versions/3.9/lib/python3.9/site-packages/emcee/backends/backend.py\u001b[0m in \u001b[0;36mget_chain\u001b[0;34m(self, **kwargs)\u001b[0m\n\u001b[1;32m     73\u001b[0m \u001b[0;34m\u001b[0m\u001b[0m\n\u001b[1;32m     74\u001b[0m         \"\"\"\n\u001b[0;32m---> 75\u001b[0;31m         \u001b[0;32mreturn\u001b[0m \u001b[0mself\u001b[0m\u001b[0;34m.\u001b[0m\u001b[0mget_value\u001b[0m\u001b[0;34m(\u001b[0m\u001b[0;34m\"chain\"\u001b[0m\u001b[0;34m,\u001b[0m \u001b[0;34m**\u001b[0m\u001b[0mkwargs\u001b[0m\u001b[0;34m)\u001b[0m\u001b[0;34m\u001b[0m\u001b[0;34m\u001b[0m\u001b[0m\n\u001b[0m\u001b[1;32m     76\u001b[0m \u001b[0;34m\u001b[0m\u001b[0m\n\u001b[1;32m     77\u001b[0m     \u001b[0;32mdef\u001b[0m \u001b[0mget_blobs\u001b[0m\u001b[0;34m(\u001b[0m\u001b[0mself\u001b[0m\u001b[0;34m,\u001b[0m \u001b[0;34m**\u001b[0m\u001b[0mkwargs\u001b[0m\u001b[0;34m)\u001b[0m\u001b[0;34m:\u001b[0m\u001b[0;34m\u001b[0m\u001b[0;34m\u001b[0m\u001b[0m\n",
      "\u001b[0;32m/Library/Frameworks/Python.framework/Versions/3.9/lib/python3.9/site-packages/emcee/backends/hdf.py\u001b[0m in \u001b[0;36mget_value\u001b[0;34m(self, name, flat, thin, discard)\u001b[0m\n\u001b[1;32m    150\u001b[0m     \u001b[0;32mdef\u001b[0m \u001b[0mget_value\u001b[0m\u001b[0;34m(\u001b[0m\u001b[0mself\u001b[0m\u001b[0;34m,\u001b[0m \u001b[0mname\u001b[0m\u001b[0;34m,\u001b[0m \u001b[0mflat\u001b[0m\u001b[0;34m=\u001b[0m\u001b[0;32mFalse\u001b[0m\u001b[0;34m,\u001b[0m \u001b[0mthin\u001b[0m\u001b[0;34m=\u001b[0m\u001b[0;36m1\u001b[0m\u001b[0;34m,\u001b[0m \u001b[0mdiscard\u001b[0m\u001b[0;34m=\u001b[0m\u001b[0;36m0\u001b[0m\u001b[0;34m)\u001b[0m\u001b[0;34m:\u001b[0m\u001b[0;34m\u001b[0m\u001b[0;34m\u001b[0m\u001b[0m\n\u001b[1;32m    151\u001b[0m         \u001b[0;32mif\u001b[0m \u001b[0;32mnot\u001b[0m \u001b[0mself\u001b[0m\u001b[0;34m.\u001b[0m\u001b[0minitialized\u001b[0m\u001b[0;34m:\u001b[0m\u001b[0;34m\u001b[0m\u001b[0;34m\u001b[0m\u001b[0m\n\u001b[0;32m--> 152\u001b[0;31m             raise AttributeError(\n\u001b[0m\u001b[1;32m    153\u001b[0m                 \u001b[0;34m\"You must run the sampler with \"\u001b[0m\u001b[0;34m\u001b[0m\u001b[0;34m\u001b[0m\u001b[0m\n\u001b[1;32m    154\u001b[0m                 \u001b[0;34m\"'store == True' before accessing the \"\u001b[0m\u001b[0;34m\u001b[0m\u001b[0;34m\u001b[0m\u001b[0m\n",
      "\u001b[0;31mAttributeError\u001b[0m: You must run the sampler with 'store == True' before accessing the results"
     ]
    }
   ],
   "source": [
    "plot_params = {'gamma1_los', 'gamma2_los'}\n",
    "p.contour_plot(path, settings, 4, plot_params, (6, 6), draft=True, save=False, show=True)"
   ]
  },
  {
   "cell_type": "markdown",
   "metadata": {},
   "source": [
    "### Examine input kwargs"
   ]
  },
  {
   "cell_type": "code",
   "execution_count": 8,
   "metadata": {},
   "outputs": [
    {
     "data": {
      "text/html": [
       "<div>\n",
       "<style scoped>\n",
       "    .dataframe tbody tr th:only-of-type {\n",
       "        vertical-align: middle;\n",
       "    }\n",
       "\n",
       "    .dataframe tbody tr th {\n",
       "        vertical-align: top;\n",
       "    }\n",
       "\n",
       "    .dataframe thead th {\n",
       "        text-align: right;\n",
       "    }\n",
       "</style>\n",
       "<table border=\"1\" class=\"dataframe\">\n",
       "  <thead>\n",
       "    <tr style=\"text-align: right;\">\n",
       "      <th></th>\n",
       "      <th>kappa_os</th>\n",
       "      <th>gamma1_os</th>\n",
       "      <th>gamma2_os</th>\n",
       "      <th>omega_os</th>\n",
       "      <th>kappa_od</th>\n",
       "      <th>gamma1_od</th>\n",
       "      <th>gamma2_od</th>\n",
       "      <th>omega_od</th>\n",
       "      <th>kappa_ds</th>\n",
       "      <th>gamma1_ds</th>\n",
       "      <th>...</th>\n",
       "      <th>e1_sl</th>\n",
       "      <th>e2_sl</th>\n",
       "      <th>R_sersic_ll</th>\n",
       "      <th>n_sersic_ll</th>\n",
       "      <th>e1_ll</th>\n",
       "      <th>e2_ll</th>\n",
       "      <th>x_ll</th>\n",
       "      <th>y_ll</th>\n",
       "      <th>magnitude_ll</th>\n",
       "      <th>theta_E</th>\n",
       "    </tr>\n",
       "  </thead>\n",
       "  <tbody>\n",
       "    <tr>\n",
       "      <th>0</th>\n",
       "      <td>0</td>\n",
       "      <td>0.006464</td>\n",
       "      <td>0.01456</td>\n",
       "      <td>0</td>\n",
       "      <td>0</td>\n",
       "      <td>0.007358</td>\n",
       "      <td>0.003739</td>\n",
       "      <td>0</td>\n",
       "      <td>0</td>\n",
       "      <td>0.027519</td>\n",
       "      <td>...</td>\n",
       "      <td>0.111812</td>\n",
       "      <td>-0.132401</td>\n",
       "      <td>0.229551</td>\n",
       "      <td>3.720934</td>\n",
       "      <td>-0.004909</td>\n",
       "      <td>0.008327</td>\n",
       "      <td>0.0</td>\n",
       "      <td>0.0</td>\n",
       "      <td>21.129431</td>\n",
       "      <td>0.872484</td>\n",
       "    </tr>\n",
       "  </tbody>\n",
       "</table>\n",
       "<p>1 rows × 44 columns</p>\n",
       "</div>"
      ],
      "text/plain": [
       "   kappa_os  gamma1_os  gamma2_os  omega_os  kappa_od  gamma1_od  gamma2_od  \\\n",
       "0         0   0.006464    0.01456         0         0   0.007358   0.003739   \n",
       "\n",
       "   omega_od  kappa_ds  gamma1_ds  ...     e1_sl     e2_sl  R_sersic_ll  \\\n",
       "0         0         0   0.027519  ...  0.111812 -0.132401     0.229551   \n",
       "\n",
       "   n_sersic_ll     e1_ll     e2_ll  x_ll  y_ll  magnitude_ll   theta_E  \n",
       "0     3.720934 -0.004909  0.008327   0.0   0.0     21.129431  0.872484  \n",
       "\n",
       "[1 rows x 44 columns]"
      ]
     },
     "execution_count": 8,
     "metadata": {},
     "output_type": "execute_result"
    }
   ],
   "source": [
    "import pandas as pd\n",
    "in_kwargs = pd.read_csv(path + '/datasets/baseline_minimal_missing_ellipticity_no_ll_input_kwargs.csv')\n",
    "in_kwargs"
   ]
  },
  {
   "cell_type": "code",
   "execution_count": 12,
   "metadata": {},
   "outputs": [
    {
     "name": "stdout",
     "output_type": "stream",
     "text": [
      "0   -0.013698\n",
      "Name: gamma1_los, dtype: float64\n",
      "0    0.0082\n",
      "Name: gamma2_los, dtype: float64\n"
     ]
    }
   ],
   "source": [
    "print(in_kwargs['gamma1_los'])\n",
    "print(in_kwargs['gamma2_los'])"
   ]
  },
  {
   "cell_type": "code",
   "execution_count": 9,
   "metadata": {},
   "outputs": [
    {
     "data": {
      "text/html": [
       "<div>\n",
       "<style scoped>\n",
       "    .dataframe tbody tr th:only-of-type {\n",
       "        vertical-align: middle;\n",
       "    }\n",
       "\n",
       "    .dataframe tbody tr th {\n",
       "        vertical-align: top;\n",
       "    }\n",
       "\n",
       "    .dataframe thead th {\n",
       "        text-align: right;\n",
       "    }\n",
       "</style>\n",
       "<table border=\"1\" class=\"dataframe\">\n",
       "  <thead>\n",
       "    <tr style=\"text-align: right;\">\n",
       "      <th></th>\n",
       "      <th>gamma1_od</th>\n",
       "      <th>gamma2_od</th>\n",
       "      <th>gamma1_los</th>\n",
       "      <th>gamma2_los</th>\n",
       "      <th>omega_los</th>\n",
       "    </tr>\n",
       "  </thead>\n",
       "  <tbody>\n",
       "    <tr>\n",
       "      <th>0</th>\n",
       "      <td>-0.016158</td>\n",
       "      <td>0.007597</td>\n",
       "      <td>-0.025737</td>\n",
       "      <td>0.008427</td>\n",
       "      <td>-0.00025</td>\n",
       "    </tr>\n",
       "  </tbody>\n",
       "</table>\n",
       "</div>"
      ],
      "text/plain": [
       "   gamma1_od  gamma2_od  gamma1_los  gamma2_los  omega_los\n",
       "0  -0.016158   0.007597   -0.025737    0.008427   -0.00025"
      ]
     },
     "execution_count": 9,
     "metadata": {},
     "output_type": "execute_result"
    }
   ],
   "source": [
    "out_kwargs = pd.read_csv(path + '/datasets/baseline_minimal_missing_ellipticity_no_ll_output_kwargs.csv')\n",
    "out_kwargs"
   ]
  },
  {
   "cell_type": "markdown",
   "metadata": {},
   "source": [
    "### Memo: baseline settings that were working"
   ]
  },
  {
   "cell_type": "code",
   "execution_count": null,
   "metadata": {},
   "outputs": [],
   "source": [
    "settings = {'scenario': 'composite lens',\n",
    "            'complexity': 'perfect minimal',\n",
    "            'lens_light': False,\n",
    "            'number_of_images': 100,\n",
    "            'MCMC': True,\n",
    "            'job_name': 'test',\n",
    "            'n_burn': 1000,\n",
    "            'n_run': 2000}\n",
    "\n",
    "parameters = {'maximum_shear': 0.03,\n",
    "              'Einstein_radius_min': 0.7, # arcsec\n",
    "              'maximum_source_offset_factor': 1, # in units of the source half-light radius\n",
    "              'sigma_halo_offset': 300} # pc"
   ]
  }
 ],
 "metadata": {
  "kernelspec": {
   "display_name": "Python 3",
   "language": "python",
   "name": "python3"
  },
  "language_info": {
   "codemirror_mode": {
    "name": "ipython",
    "version": 3
   },
   "file_extension": ".py",
   "mimetype": "text/x-python",
   "name": "python",
   "nbconvert_exporter": "python",
   "pygments_lexer": "ipython3",
   "version": "3.9.2"
  }
 },
 "nbformat": 4,
 "nbformat_minor": 4
}
