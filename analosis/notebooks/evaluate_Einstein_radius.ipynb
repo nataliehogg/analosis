{
 "cells": [
  {
   "cell_type": "markdown",
   "id": "developed-stock",
   "metadata": {},
   "source": [
    "# Evaluating the Einstein radius of our composite models"
   ]
  },
  {
   "cell_type": "markdown",
   "id": "alternate-patrick",
   "metadata": {},
   "source": [
    "Import useful packages"
   ]
  },
  {
   "cell_type": "code",
   "execution_count": 7,
   "id": "comparative-indicator",
   "metadata": {},
   "outputs": [],
   "source": [
    "import sys\n",
    "sys.path.append('../..')\n",
    "\n",
    "from matplotlib import rc, cm, rcParams\n",
    "rc('text', usetex=True)\n",
    "rc('font', family='serif')\n",
    "rcParams.update({'font.size': 18})\n",
    "import matplotlib.pyplot as plt\n",
    "\n",
    "import numpy as np\n",
    "import pandas as pd\n",
    "from lenstronomy.LensModel.lens_model import LensModel\n",
    "from scipy.optimize import fsolve"
   ]
  },
  {
   "cell_type": "markdown",
   "id": "documented-affect",
   "metadata": {},
   "source": [
    "Import the input kwargs"
   ]
  },
  {
   "cell_type": "code",
   "execution_count": 2,
   "id": "abstract-consolidation",
   "metadata": {},
   "outputs": [],
   "source": [
    "sample = 'golden'\n",
    "path = '/Users/pierrefleury/GitHub/analosis/analosis/results'\n",
    "input_kwargs = pd.read_csv(path + '/datasets/' + sample + '_sample_input_kwargs.csv')"
   ]
  },
  {
   "cell_type": "markdown",
   "id": "advance-melbourne",
   "metadata": {},
   "source": [
    "## Method of the paper v1\n",
    "\n",
    "We consider\n",
    "$\n",
    "\\theta_{\\rm E} = \\theta_{\\rm E, b} + \\alpha_{\\rm NFW}(\\theta_{\\rm E, b})\n",
    "$\n",
    "for simplicity."
   ]
  },
  {
   "cell_type": "code",
   "execution_count": 3,
   "id": "diverse-collection",
   "metadata": {},
   "outputs": [
    {
     "name": "stdout",
     "output_type": "stream",
     "text": [
      "0     1.149321\n",
      "1     1.004845\n",
      "2     1.114515\n",
      "3     1.725652\n",
      "4     0.609137\n",
      "        ...   \n",
      "59    1.209422\n",
      "60    0.645238\n",
      "61    1.314664\n",
      "62    1.056902\n",
      "63    0.854568\n",
      "Name: theta_E, Length: 64, dtype: float64\n"
     ]
    }
   ],
   "source": [
    "theta_E_v1 = input_kwargs['theta_E']\n",
    "print(theta_E_v1)"
   ]
  },
  {
   "cell_type": "markdown",
   "id": "horizontal-organ",
   "metadata": {},
   "source": [
    "## More accurate method\n",
    "\n",
    "We may define the Einstein radius $\\theta_{\\rm E}$ as the radius of a disk such that the average convergence is unity,\n",
    "$$\n",
    "\\bar{\\kappa}(\\theta_{\\rm E}) = 1 .\n",
    "$$\n",
    "\n",
    "We will treat our composite lens as if the components were aligned and axially symmetric, for simplicity. This implies that\n",
    "$$\n",
    "\\bar{\\kappa}(\\theta) = \\frac{\\alpha(\\theta)}{\\theta} \\ ,\n",
    "$$\n",
    "which also confirms that at the Einstein radius we have $\\alpha(\\theta_{\\rm E})=\\theta_{\\rm E}$."
   ]
  },
  {
   "cell_type": "code",
   "execution_count": 4,
   "id": "chubby-sender",
   "metadata": {},
   "outputs": [],
   "source": [
    "def estimate_Einstein_radius(R_sersic, n_sersic, k_eff, Rs, alpha_Rs, guess=1):\n",
    "    \"\"\"\n",
    "    Finds the value theta_E of the Einstein radius such that\n",
    "    alpha(theta_E) = theta_E\n",
    "    \"\"\"\n",
    "    \n",
    "    lens = LensModel(lens_model_list=['SERSIC', 'NFW'])\n",
    "    kwargs_sersic = {'R_sersic': R_sersic,\n",
    "                     'n_sersic': n_sersic,\n",
    "                     'k_eff': k_eff}\n",
    "    kwargs_nfw = {'Rs': Rs, 'alpha_Rs': alpha_Rs}\n",
    "    kwargs_lens = [kwargs_sersic, kwargs_nfw]\n",
    "    \n",
    "    func = lambda theta: lens.alpha(x=theta, y=0, kwargs=kwargs_lens)[0] - theta\n",
    "    theta_E = fsolve(func, guess)[0]\n",
    "    \n",
    "    return theta_E"
   ]
  },
  {
   "cell_type": "code",
   "execution_count": 5,
   "id": "current-natural",
   "metadata": {},
   "outputs": [],
   "source": [
    "theta_E_v2 = []\n",
    "for n in range():\n",
    "    theta_E = estimate_Einstein_radius(\n",
    "        input_kwargs['R_sersic_bar'][n],\n",
    "        input_kwargs['n_sersic_bar'][n],\n",
    "        input_kwargs['k_eff_bar'][n],\n",
    "        input_kwargs['Rs'][n],\n",
    "        input_kwargs['alpha_Rs'][n],\n",
    "        guess=input_kwargs['theta_E'][n])\n",
    "    theta_E_v2.append(theta_E)"
   ]
  },
  {
   "cell_type": "code",
   "execution_count": 8,
   "id": "thorough-republic",
   "metadata": {},
   "outputs": [
    {
     "data": {
      "image/png": "[encoded data removed]",
      "text/plain": [
       "<Figure size 432x432 with 1 Axes>"
      ]
     },
     "metadata": {
      "needs_background": "light"
     },
     "output_type": "display_data"
    }
   ],
   "source": [
    "plt.figure(figsize=(6, 6))\n",
    "plt.plot([0, 2.3], [0, 2.3], 'k--')\n",
    "plt.plot(theta_E_v2, theta_E_v1, 'o')\n",
    "plt.xlabel(r'more accurate estimate of $\\theta_{\\rm E}$ [arcsec]')\n",
    "plt.ylabel(r'estimate of $\\theta_{\\rm E}$ in the paper [arcsec]')\n",
    "plt.savefig('estimate_Einstein_radius.pdf', bbox_inches='tight')\n",
    "plt.show()"
   ]
  },
  {
   "cell_type": "code",
   "execution_count": null,
   "id": "necessary-answer",
   "metadata": {},
   "outputs": [],
   "source": []
  }
 ],
 "metadata": {
  "kernelspec": {
   "display_name": "Python 3",
   "language": "python",
   "name": "python3"
  },
  "language_info": {
   "codemirror_mode": {
    "name": "ipython",
    "version": 3
   },
   "file_extension": ".py",
   "mimetype": "text/x-python",
   "name": "python",
   "nbconvert_exporter": "python",
   "pygments_lexer": "ipython3",
   "version": "3.9.2"
  }
 },
 "nbformat": 4,
 "nbformat_minor": 5
}
